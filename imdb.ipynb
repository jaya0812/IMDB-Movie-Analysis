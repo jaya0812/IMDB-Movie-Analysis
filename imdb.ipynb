{
 "cells": [
  {
   "cell_type": "code",
   "execution_count": null,
   "metadata": {
    "id": "8yl5ur8TInHa",
    "outputId": "55f259ba-54b8-4631-9054-c703942a0601"
   },
   "outputs": [
    {
     "name": "stdout",
     "output_type": "stream",
     "text": [
      "Clicked 'Load More' button\n",
      "Clicked 'Load More' button\n",
      "Clicked 'Load More' button\n",
      "Clicked 'Load More' button\n",
      "Clicked 'Load More' button\n",
      "Clicked 'Load More' button\n",
      "Error clicking 'Load More' button: Message: element click intercepted: Element <span class=\"ipc-see-more__text\">...</span> is not clickable at point (381, 5). Other element would receive the click: <li class=\"ipc-tab ipc-tab--on-base\" role=\"tab\" tabindex=\"0\" aria-selected=\"false\">...</li>\n",
      "  (Session info: chrome=138.0.7204.184); For documentation on this error, please visit: https://www.selenium.dev/documentation/webdriver/troubleshooting/errors#elementclickinterceptedexception\n",
      "Stacktrace:\n",
      "\tGetHandleVerifier [0x0x7ff7b115e415+77285]\n",
      "\tGetHandleVerifier [0x0x7ff7b115e470+77376]\n",
      "\t(No symbol) [0x0x7ff7b0f29a6a]\n",
      "\t(No symbol) [0x0x7ff7b0f883e9]\n",
      "\t(No symbol) [0x0x7ff7b0f85d8b]\n",
      "\t(No symbol) [0x0x7ff7b0f82dd1]\n",
      "\t(No symbol) [0x0x7ff7b0f81ce1]\n",
      "\t(No symbol) [0x0x7ff7b0f73804]\n",
      "\t(No symbol) [0x0x7ff7b0fa860a]\n",
      "\t(No symbol) [0x0x7ff7b0f72d06]\n",
      "\t(No symbol) [0x0x7ff7b0fa8820]\n",
      "\t(No symbol) [0x0x7ff7b0fd087f]\n",
      "\t(No symbol) [0x0x7ff7b0fa83e3]\n",
      "\t(No symbol) [0x0x7ff7b0f71521]\n",
      "\t(No symbol) [0x0x7ff7b0f722b3]\n",
      "\tGetHandleVerifier [0x0x7ff7b1441efd+3107021]\n",
      "\tGetHandleVerifier [0x0x7ff7b143c29d+3083373]\n",
      "\tGetHandleVerifier [0x0x7ff7b145bedd+3213485]\n",
      "\tGetHandleVerifier [0x0x7ff7b117884e+184862]\n",
      "\tGetHandleVerifier [0x0x7ff7b118055f+216879]\n",
      "\tGetHandleVerifier [0x0x7ff7b1167084+113236]\n",
      "\tGetHandleVerifier [0x0x7ff7b1167239+113673]\n",
      "\tGetHandleVerifier [0x0x7ff7b114e298+11368]\n",
      "\tBaseThreadInitThunk [0x0x7ffe73d3e8d7+23]\n",
      "\tRtlUserThreadStart [0x0x7ffe7447c34c+44]\n",
      "\n",
      "No more content to load.\n"
     ]
    }
   ],
   "source": [
    "from selenium import webdriver\n",
    "from selenium.webdriver.common.by import By\n",
    "from selenium.webdriver.common.action_chains import ActionChains\n",
    "from selenium.webdriver.common.keys import Keys\n",
    "import time\n",
    "\n",
    "# Set up the WebDriver (you can use Chrome or Firefox)\n",
    "driver = webdriver.Chrome()  # Or use webdriver.Firefox() if you prefer Firefox\n",
    "# //*[@id=\"__next\"]/main/div[2]/div[3]/section/section/div/section/section/div[2]/div/section/div[2]/div[2]/div[2]/div/span/button/span/span\n",
    "# Open the IMDb page\n",
    "page=\"https://www.imdb.com/search/title/?title_type=feature&genres=sport\"\n",
    "driver.get(page)\n",
    "\n",
    "# Wait for the page to load\n",
    "time.sleep(3)\n",
    "\n",
    "# Define a function to click the \"Load More\" button\n",
    "def click_load_more():\n",
    "    try:\n",
    "        # Locate the \"Load More\" button\n",
    "        load_more_button = driver.find_element(By.XPATH, '//*[@id=\"__next\"]/main/div[2]/div[3]/section/section/div/section/section/div[2]/div/section/div[2]/div[2]/div[2]/div/span/button/span/span')\n",
    "\n",
    "        # Scroll to the \"Load More\" button to make sure it's in view\n",
    "        ActionChains(driver).move_to_element(load_more_button).perform()\n",
    "\n",
    "        # Click the button\n",
    "        load_more_button.click()\n",
    "\n",
    "        # Wait for new content to load\n",
    "        time.sleep(3)\n",
    "        return True\n",
    "    except Exception as e:\n",
    "        print(\"Error clicking 'Load More' button:\", e)\n",
    "        return False\n",
    "\n",
    "# Click \"Load More\" until the button is no longer available\n",
    "while click_load_more():\n",
    "    print(\"Clicked 'Load More' button\")\n",
    "\n",
    "# Once the loop ends, we assume there is no more content to load\n",
    "print(\"No more content to load.\")\n",
    "\n",
    "# Optionally, you can scrape the data you need here after the content is fully loaded.\n",
    "\n",
    "# Close the driver when done\n",
    "# driver.quit()\n"
   ]
  },
  {
   "cell_type": "code",
   "execution_count": null,
   "metadata": {
    "id": "MWZmX1tcKxXo"
   },
   "outputs": [],
   "source": [
    "//*[@id=\"__next\"]/main/div[2]/div[3]/section/section/div/section/section/div[2]/div/section/div[2]/div[2]/ul/li"
   ]
  },
  {
   "cell_type": "code",
   "execution_count": null,
   "metadata": {
    "id": "IS-iPHSTInHd",
    "outputId": "62867218-bb76-4357-c328-6062922a9459"
   },
   "outputs": [],
   "source": [
    "import pandas as pd\n",
    "# Initialize lists to store the scraped data\n",
    "titles = []\n",
    "ratings = []\n",
    "votings = []\n",
    "durations = []\n",
    "# Loop through all movie items on the page\n",
    "movie_items = driver.find_elements(By.XPATH, '//*[@id=\"__next\"]/main/div[2]/div[3]/section/section/div/section/section/div[2]/div/section/div[2]/div[2]/ul/li')#'//*[@id=\"__next\"]/main/div[2]/div[3]/section/section/div/section/section/div[2]/div/section/div[2]/div[2]/ul/li')\n",
    "\n",
    "for movie_item in movie_items:#//*[@id=\"__next\"]/main/div[2]/div[3]/section/section/div/section/section/div[2]/div/section/div[2]/div[2]/ul/li[1]/div/div/div/div[1]/div[2]/span/div/span/span[2]\n",
    "    try:\n",
    "        # Extract the movie title//*[@id=\"__next\"]/main/div[2]/div[3]/section/section/div/section/section/div[2]/div/section/div[2]/div[2]/ul/li[2]/div/div/div/div[1]/div[2]/div[1]/a/h3\n",
    "        title = movie_item.find_element(By.XPATH, './div/div/div/div[1]/div[2]/div[1]/a/h3').text\n",
    "\n",
    "        # Extract the movie rating\n",
    "        rating = movie_item.find_element(By.XPATH, './div/div/div/div[1]/div[2]/span/div/span/span[1]').text\n",
    "\n",
    "        # Extract the number of votes\n",
    "        voting = movie_item.find_element(By.XPATH, './div/div/div/div[1]/div[2]/span/div/span/span[2]').text\n",
    "\n",
    "        # Extract the movie duration//*[@id=\"__next\"]/main/div[2]/div[3]/section/section/div/section/section/div[2]/div/section/div[2]/div[2]/ul/li[1]/div/div/div/div[1]/div[2]/div[2]/span[2]\n",
    "        duration = movie_item.find_element(By.XPATH, './div/div/div/div[1]/div[2]/div[2]/span[2]').text\n",
    "\n",
    "        # Append the data to the lists\n",
    "        titles.append(title)\n",
    "        ratings.append(rating)\n",
    "        votings.append(voting)\n",
    "        durations.append(duration)\n",
    "\n",
    "    except Exception as e:\n",
    "        # If any element is not found, skip this movie and print an error message\n",
    "        print(f\"Error extracting data for a movie: {e}\")\n",
    "        continue\n",
    "\n",
    "# Create a DataFrame using the extracted data\n",
    "df = pd.DataFrame({\n",
    "    'Title': titles,\n",
    "    'Rating': ratings,\n",
    "    'Votes': votings,\n",
    "    'Duration': durations\n",
    "})\n",
    "\n",
    "# # Save the DataFrame to a CSV file (optional)\n",
    "df.to_csv('D:\\Guvi project 1\\crime_sport.csv',index=False)\n",
    "\n",
    "# Close the browser\n",
    "# driver.quit()\n",
    "df\n"
   ]
  },
  {
   "cell_type": "code",
   "execution_count": null,
   "metadata": {
    "id": "DBdwNP9KInHd",
    "outputId": "f6727971-c781-4b2c-b07e-3e92059313c7"
   },
   "outputs": [],
   "source": [
    "#Concatenating the files as single dataset\n",
    "\n",
    "import os\n",
    "import streamlit as st\n",
    "import pandas as pd\n",
    "import re\n",
    "import mysql.connector\n",
    "\n",
    "def load_path(path):\n",
    "\n",
    "    data={}\n",
    "\n",
    "    for filename in os.listdir(path):\n",
    "        if filename.endswith('.csv'):\n",
    "            a=pd.read_csv(os.path.join(path,filename))\n",
    "            genre=filename.replace('.csv','')\n",
    "            a['plot']=genre\n",
    "            data[genre]=a\n",
    "    return data\n",
    " \n",
    "imdb_data = load_path(path=r'D:\\Guvi project 1')\n",
    "\n",
    "df=pd.concat(imdb_data.values(),ignore_index=True)\n",
    "\n",
    "df.dropna(inplace=True)\n",
    "\n",
    "#Cleaning the Votes variable\n",
    "\n",
    "df['Movie']=df.Title.str.split('.').str[1].str.strip()\n",
    "df.drop(['Title'],axis=1,inplace=True)\n",
    "df.rename(columns={'plot':'Genre'},inplace=True)\n",
    "df['Voting_counts']=df.Votes.str.replace(r'[()]','',regex=True)\n",
    "\n",
    "#Extract Votes_count info\n",
    "\n",
    "def view_count(val):\n",
    "    if isinstance(val,str):\n",
    "        val=val.strip().lower()\n",
    "        if val.endswith('k'):\n",
    "            return float(val[:-1])*1000\n",
    "        elif val.endswith('m'):\n",
    "            return float(val[:-1])*1000000\n",
    "        elif val.endswith('b'):\n",
    "            return float(val[:-1])*1000000000\n",
    "        else:\n",
    "            return val\n",
    "    \n",
    "\n",
    "df['Voting_counts']=df.Voting_counts.apply(view_count).astype(int)\n",
    "\n",
    "hours = df['Duration'].str.extract(r'(\\d+)h')[0].fillna(0).astype(int)\n",
    "minutes = df['Duration'].str.extract(r'(\\d+)m')[0].fillna(0).astype(int)\n",
    "\n",
    "# Convert to total minutes\n",
    "df['Total_hours'] = hours + (minutes / 60)\n",
    "\n",
    "df.drop(['Votes','Duration'],axis=1,inplace=True)\n",
    "\n",
    "df.drop_duplicates(['Movie'],inplace=True)\n",
    "\n",
    "df1=df[df.Movie.str.len()<50]\n",
    "\n",
    "df1.to_csv(r\"D:\\Guvi project 1\\Final\\final_imdb.csv\",index=False)"
   ]
  },
  {
   "cell_type": "code",
   "execution_count": 4,
   "metadata": {},
   "outputs": [
    {
     "data": {
      "text/html": [
       "<div>\n",
       "<style scoped>\n",
       "    .dataframe tbody tr th:only-of-type {\n",
       "        vertical-align: middle;\n",
       "    }\n",
       "\n",
       "    .dataframe tbody tr th {\n",
       "        vertical-align: top;\n",
       "    }\n",
       "\n",
       "    .dataframe thead th {\n",
       "        text-align: right;\n",
       "    }\n",
       "</style>\n",
       "<table border=\"1\" class=\"dataframe\">\n",
       "  <thead>\n",
       "    <tr style=\"text-align: right;\">\n",
       "      <th></th>\n",
       "      <th>Rating</th>\n",
       "      <th>Genre</th>\n",
       "      <th>Movie</th>\n",
       "      <th>Voting_counts</th>\n",
       "      <th>Total_hours</th>\n",
       "    </tr>\n",
       "  </thead>\n",
       "  <tbody>\n",
       "    <tr>\n",
       "      <th>0</th>\n",
       "      <td>6.3</td>\n",
       "      <td>Action</td>\n",
       "      <td>Freaky Tales</td>\n",
       "      <td>9400</td>\n",
       "      <td>1.783333</td>\n",
       "    </tr>\n",
       "    <tr>\n",
       "      <th>1</th>\n",
       "      <td>9.3</td>\n",
       "      <td>Action</td>\n",
       "      <td>Mahavatar Narsimha</td>\n",
       "      <td>26000</td>\n",
       "      <td>2.166667</td>\n",
       "    </tr>\n",
       "    <tr>\n",
       "      <th>2</th>\n",
       "      <td>6.5</td>\n",
       "      <td>Action</td>\n",
       "      <td>Gladiator II</td>\n",
       "      <td>267000</td>\n",
       "      <td>2.466667</td>\n",
       "    </tr>\n",
       "    <tr>\n",
       "      <th>3</th>\n",
       "      <td>6.8</td>\n",
       "      <td>Action</td>\n",
       "      <td>The Ministry of Ungentlemanly Warfare</td>\n",
       "      <td>143000</td>\n",
       "      <td>2.033333</td>\n",
       "    </tr>\n",
       "    <tr>\n",
       "      <th>4</th>\n",
       "      <td>6.8</td>\n",
       "      <td>Action</td>\n",
       "      <td>Kingdom of the Planet of the Apes</td>\n",
       "      <td>158000</td>\n",
       "      <td>2.416667</td>\n",
       "    </tr>\n",
       "  </tbody>\n",
       "</table>\n",
       "</div>"
      ],
      "text/plain": [
       "   Rating   Genre                                  Movie  Voting_counts  \\\n",
       "0     6.3  Action                           Freaky Tales           9400   \n",
       "1     9.3  Action                     Mahavatar Narsimha          26000   \n",
       "2     6.5  Action                           Gladiator II         267000   \n",
       "3     6.8  Action  The Ministry of Ungentlemanly Warfare         143000   \n",
       "4     6.8  Action      Kingdom of the Planet of the Apes         158000   \n",
       "\n",
       "   Total_hours  \n",
       "0     1.783333  \n",
       "1     2.166667  \n",
       "2     2.466667  \n",
       "3     2.033333  \n",
       "4     2.416667  "
      ]
     },
     "execution_count": 4,
     "metadata": {},
     "output_type": "execute_result"
    }
   ],
   "source": [
    "df1.head()"
   ]
  },
  {
   "cell_type": "code",
   "execution_count": 9,
   "metadata": {},
   "outputs": [
    {
     "name": "stdout",
     "output_type": "stream",
     "text": [
      "Data inserted successfully.\n"
     ]
    }
   ],
   "source": [
    "import mysql.connector\n",
    "\n",
    "# Step 1: Connect without database to create it\n",
    "connection = mysql.connector.connect(\n",
    "    host=\"localhost\",\n",
    "    user=\"root\",\n",
    "    password=\"0123456789\"\n",
    ")\n",
    "cursor1 = connection.cursor()\n",
    "cursor1.execute(\"CREATE DATABASE IF NOT EXISTS Guvi_proj1\")\n",
    "connection.commit()\n",
    "cursor1.close()\n",
    "connection.close()\n",
    "\n",
    "# Step 2: Connect to the newly created database\n",
    "imdb_data = mysql.connector.connect(\n",
    "    host=\"localhost\",\n",
    "    user=\"root\",\n",
    "    password=\"0123456789\",\n",
    "    database=\"Guvi_proj1\"\n",
    ")\n",
    "mycursor = imdb_data.cursor()\n",
    "\n",
    "# Step 3: Read CSV\n",
    "df = pd.read_csv(r\"D:\\Guvi project 1\\Final\\final_imdb.csv\")\n",
    "\n",
    "# Step 4: Drop table if exists and create it\n",
    "mycursor.execute(\"DROP TABLE IF EXISTS imdb\")\n",
    "mycursor.execute(\"\"\"\n",
    "    CREATE TABLE imdb (\n",
    "        Rating FLOAT,\n",
    "        Genre VARCHAR(20),\n",
    "        Movie VARCHAR(250) ,\n",
    "        Voting_counts FLOAT,\n",
    "        Total_hours float   )\n",
    "\"\"\")\n",
    "\n",
    "# Step 5: Insert data\n",
    "for _, rs in df.iterrows():\n",
    "    query = \"\"\"\n",
    "        INSERT INTO imdb (Rating, Genre, Movie, Voting_counts, Total_hours)\n",
    "        VALUES (%s, %s, %s, %s, %s)\n",
    "    \"\"\"\n",
    "    mycursor.execute(query, (\n",
    "        float(rs['Rating']),\n",
    "        str(rs['Genre']),\n",
    "        str(rs['Movie']),\n",
    "        float(rs['Voting_counts']),\n",
    "        float(rs['Total_hours'])\n",
    "    ))\n",
    "\n",
    "# Step 6: Commit and close\n",
    "imdb_data.commit()\n",
    "mycursor.close()\n",
    "imdb_data.close()\n",
    "\n",
    "print(\"Data inserted successfully.\")\n"
   ]
  },
  {
   "cell_type": "code",
   "execution_count": 8,
   "metadata": {},
   "outputs": [
    {
     "data": {
      "text/html": [
       "<div>\n",
       "<style scoped>\n",
       "    .dataframe tbody tr th:only-of-type {\n",
       "        vertical-align: middle;\n",
       "    }\n",
       "\n",
       "    .dataframe tbody tr th {\n",
       "        vertical-align: top;\n",
       "    }\n",
       "\n",
       "    .dataframe thead th {\n",
       "        text-align: right;\n",
       "    }\n",
       "</style>\n",
       "<table border=\"1\" class=\"dataframe\">\n",
       "  <thead>\n",
       "    <tr style=\"text-align: right;\">\n",
       "      <th></th>\n",
       "      <th>Rating</th>\n",
       "      <th>Genre</th>\n",
       "      <th>Movie</th>\n",
       "      <th>Voting_counts</th>\n",
       "      <th>Total_hours</th>\n",
       "    </tr>\n",
       "  </thead>\n",
       "  <tbody>\n",
       "    <tr>\n",
       "      <th>0</th>\n",
       "      <td>6.3</td>\n",
       "      <td>Action</td>\n",
       "      <td>Freaky Tales</td>\n",
       "      <td>9400</td>\n",
       "      <td>1.783333</td>\n",
       "    </tr>\n",
       "    <tr>\n",
       "      <th>1</th>\n",
       "      <td>9.3</td>\n",
       "      <td>Action</td>\n",
       "      <td>Mahavatar Narsimha</td>\n",
       "      <td>26000</td>\n",
       "      <td>2.166667</td>\n",
       "    </tr>\n",
       "    <tr>\n",
       "      <th>2</th>\n",
       "      <td>6.5</td>\n",
       "      <td>Action</td>\n",
       "      <td>Gladiator II</td>\n",
       "      <td>267000</td>\n",
       "      <td>2.466667</td>\n",
       "    </tr>\n",
       "    <tr>\n",
       "      <th>3</th>\n",
       "      <td>6.8</td>\n",
       "      <td>Action</td>\n",
       "      <td>The Ministry of Ungentlemanly Warfare</td>\n",
       "      <td>143000</td>\n",
       "      <td>2.033333</td>\n",
       "    </tr>\n",
       "    <tr>\n",
       "      <th>4</th>\n",
       "      <td>6.8</td>\n",
       "      <td>Action</td>\n",
       "      <td>Kingdom of the Planet of the Apes</td>\n",
       "      <td>158000</td>\n",
       "      <td>2.416667</td>\n",
       "    </tr>\n",
       "  </tbody>\n",
       "</table>\n",
       "</div>"
      ],
      "text/plain": [
       "   Rating   Genre                                  Movie  Voting_counts  \\\n",
       "0     6.3  Action                           Freaky Tales           9400   \n",
       "1     9.3  Action                     Mahavatar Narsimha          26000   \n",
       "2     6.5  Action                           Gladiator II         267000   \n",
       "3     6.8  Action  The Ministry of Ungentlemanly Warfare         143000   \n",
       "4     6.8  Action      Kingdom of the Planet of the Apes         158000   \n",
       "\n",
       "   Total_hours  \n",
       "0     1.783333  \n",
       "1     2.166667  \n",
       "2     2.466667  \n",
       "3     2.033333  \n",
       "4     2.416667  "
      ]
     },
     "execution_count": 8,
     "metadata": {},
     "output_type": "execute_result"
    }
   ],
   "source": [
    "df.head()"
   ]
  },
  {
   "cell_type": "code",
   "execution_count": 5,
   "metadata": {},
   "outputs": [],
   "source": [
    "# 1. Top-Rated Movies: Identify the top 10 movies with the highest ratings and voting counts.\n",
    "\n",
    "import seaborn as sns\n",
    "import matplotlib.pyplot as plt\n",
    "import pandas as pd \n",
    "\n",
    "sample = pd.read_csv(r\"D:\\Guvi project 1\\Final\\final_imdb.csv\")"
   ]
  },
  {
   "cell_type": "code",
   "execution_count": 7,
   "metadata": {},
   "outputs": [
    {
     "data": {
      "text/html": [
       "<div>\n",
       "<style scoped>\n",
       "    .dataframe tbody tr th:only-of-type {\n",
       "        vertical-align: middle;\n",
       "    }\n",
       "\n",
       "    .dataframe tbody tr th {\n",
       "        vertical-align: top;\n",
       "    }\n",
       "\n",
       "    .dataframe thead th {\n",
       "        text-align: right;\n",
       "    }\n",
       "</style>\n",
       "<table border=\"1\" class=\"dataframe\">\n",
       "  <thead>\n",
       "    <tr style=\"text-align: right;\">\n",
       "      <th></th>\n",
       "      <th>Rating</th>\n",
       "      <th>Genre</th>\n",
       "      <th>Movie</th>\n",
       "      <th>Voting_counts</th>\n",
       "      <th>Total_hours</th>\n",
       "    </tr>\n",
       "  </thead>\n",
       "  <tbody>\n",
       "    <tr>\n",
       "      <th>0</th>\n",
       "      <td>6.3</td>\n",
       "      <td>Action</td>\n",
       "      <td>Freaky Tales</td>\n",
       "      <td>9400</td>\n",
       "      <td>1.783333</td>\n",
       "    </tr>\n",
       "    <tr>\n",
       "      <th>1</th>\n",
       "      <td>9.3</td>\n",
       "      <td>Action</td>\n",
       "      <td>Mahavatar Narsimha</td>\n",
       "      <td>26000</td>\n",
       "      <td>2.166667</td>\n",
       "    </tr>\n",
       "    <tr>\n",
       "      <th>2</th>\n",
       "      <td>6.5</td>\n",
       "      <td>Action</td>\n",
       "      <td>Gladiator II</td>\n",
       "      <td>267000</td>\n",
       "      <td>2.466667</td>\n",
       "    </tr>\n",
       "    <tr>\n",
       "      <th>3</th>\n",
       "      <td>6.8</td>\n",
       "      <td>Action</td>\n",
       "      <td>The Ministry of Ungentlemanly Warfare</td>\n",
       "      <td>143000</td>\n",
       "      <td>2.033333</td>\n",
       "    </tr>\n",
       "    <tr>\n",
       "      <th>4</th>\n",
       "      <td>6.8</td>\n",
       "      <td>Action</td>\n",
       "      <td>Kingdom of the Planet of the Apes</td>\n",
       "      <td>158000</td>\n",
       "      <td>2.416667</td>\n",
       "    </tr>\n",
       "  </tbody>\n",
       "</table>\n",
       "</div>"
      ],
      "text/plain": [
       "   Rating   Genre                                  Movie  Voting_counts  \\\n",
       "0     6.3  Action                           Freaky Tales           9400   \n",
       "1     9.3  Action                     Mahavatar Narsimha          26000   \n",
       "2     6.5  Action                           Gladiator II         267000   \n",
       "3     6.8  Action  The Ministry of Ungentlemanly Warfare         143000   \n",
       "4     6.8  Action      Kingdom of the Planet of the Apes         158000   \n",
       "\n",
       "   Total_hours  \n",
       "0     1.783333  \n",
       "1     2.166667  \n",
       "2     2.466667  \n",
       "3     2.033333  \n",
       "4     2.416667  "
      ]
     },
     "execution_count": 7,
     "metadata": {},
     "output_type": "execute_result"
    }
   ],
   "source": [
    "sample.head(5)"
   ]
  },
  {
   "cell_type": "code",
   "execution_count": null,
   "metadata": {},
   "outputs": [],
   "source": [
    "case1=sample.sort_values(['Voting_counts','Rating'],ascending=[False,False]).head(10)\n",
    "\n",
    "fig,ax1=plt.subplots(figsize=(10,6))\n",
    "sns.barplot(x=case1.Movie,y=case1.Rating,color='skyblue',label='Rating')\n",
    "plt.xticks(rotation=50,ha=\"right\",fontsize=10)\n",
    "plt.show()"
   ]
  },
  {
   "cell_type": "markdown",
   "metadata": {},
   "source": [
    "2. Group by Genre and count number of Movies"
   ]
  },
  {
   "cell_type": "code",
   "execution_count": null,
   "metadata": {},
   "outputs": [
    {
     "data": {
      "image/png": "[encoded data removed]",
      "text/plain": [
       "<Figure size 1000x600 with 1 Axes>"
      ]
     },
     "metadata": {},
     "output_type": "display_data"
    }
   ],
   "source": [
    "\n",
    "case2 = sample.groupby('Genre')['Movie'].count().reset_index(name='Count')\n",
    "\n",
    "# Plot\n",
    "fig, ax2 = plt.subplots(figsize=(10,6))\n",
    "sns.barplot(x='Genre', y='Count', data=case2, ax=ax2)\n",
    "\n",
    "# Rotate x-axis labels for readability\n",
    "plt.xticks(rotation=45)\n",
    "plt.xlabel(\"Genre\")\n",
    "plt.ylabel(\"Number of Movies\")\n",
    "plt.title(\"Distribution of Genres in 2024 Movies\")\n",
    "plt.show()"
   ]
  },
  {
   "cell_type": "markdown",
   "metadata": {},
   "source": [
    "3. Duration Insights: Analyze the average duration of movies across genres."
   ]
  },
  {
   "cell_type": "code",
   "execution_count": null,
   "metadata": {},
   "outputs": [
    {
     "data": {
      "text/html": [
       "<div>\n",
       "<style scoped>\n",
       "    .dataframe tbody tr th:only-of-type {\n",
       "        vertical-align: middle;\n",
       "    }\n",
       "\n",
       "    .dataframe tbody tr th {\n",
       "        vertical-align: top;\n",
       "    }\n",
       "\n",
       "    .dataframe thead th {\n",
       "        text-align: right;\n",
       "    }\n",
       "</style>\n",
       "<table border=\"1\" class=\"dataframe\">\n",
       "  <thead>\n",
       "    <tr style=\"text-align: right;\">\n",
       "      <th></th>\n",
       "      <th>Genre</th>\n",
       "      <th>Avg_duration</th>\n",
       "    </tr>\n",
       "  </thead>\n",
       "  <tbody>\n",
       "    <tr>\n",
       "      <th>0</th>\n",
       "      <td>Action</td>\n",
       "      <td>1.997000</td>\n",
       "    </tr>\n",
       "    <tr>\n",
       "      <th>1</th>\n",
       "      <td>adventure</td>\n",
       "      <td>2.043849</td>\n",
       "    </tr>\n",
       "    <tr>\n",
       "      <th>2</th>\n",
       "      <td>comedy</td>\n",
       "      <td>1.820047</td>\n",
       "    </tr>\n",
       "    <tr>\n",
       "      <th>3</th>\n",
       "      <td>crime</td>\n",
       "      <td>1.981623</td>\n",
       "    </tr>\n",
       "    <tr>\n",
       "      <th>4</th>\n",
       "      <td>sport</td>\n",
       "      <td>1.905059</td>\n",
       "    </tr>\n",
       "  </tbody>\n",
       "</table>\n",
       "</div>"
      ],
      "text/plain": [
       "       Genre  Avg_duration\n",
       "0     Action      1.997000\n",
       "1  adventure      2.043849\n",
       "2     comedy      1.820047\n",
       "3      crime      1.981623\n",
       "4      sport      1.905059"
      ]
     },
     "execution_count": 40,
     "metadata": {},
     "output_type": "execute_result"
    }
   ],
   "source": [
    "case3=sample.groupby(['Genre'])['Total_hours'].mean().reset_index(name='Avg_duration')\n",
    "case3\n",
    "fig, ax3 = plt.subplots(figsize=(10,6))\n",
    "\n",
    "sns.barplot(x='Genre', y='Avg_duration', data=case3, ax=ax3)\n",
    "\n",
    "# Rotate x-axis labels for readability\n",
    "plt.xticks(rotation=45)\n",
    "plt.xlabel(\"Genre\")\n",
    "plt.ylabel(\"Average Duration (hrs)\")\n",
    "plt.title(\"Average duration of Genres\")\n",
    "plt.show()"
   ]
  },
  {
   "cell_type": "markdown",
   "metadata": {},
   "source": [
    "4. Voting Patterns: Discover genres with the highest average voting counts."
   ]
  },
  {
   "cell_type": "code",
   "execution_count": 50,
   "metadata": {},
   "outputs": [
    {
     "data": {
      "image/png": "[encoded data removed]",
      "text/plain": [
       "<Figure size 800x400 with 1 Axes>"
      ]
     },
     "metadata": {},
     "output_type": "display_data"
    }
   ],
   "source": [
    "case4=sample.groupby(['Genre'])['Voting_counts'].mean().reset_index(name='Avg_Voting_counts')\n",
    "\n",
    "fig, ax4= plt.subplots(figsize=(8,4))\n",
    "\n",
    "sns.barplot(x='Genre', y='Avg_Voting_counts', data=case4, ax=ax4)\n",
    "\n",
    "# Rotate x-axis labels for readability\n",
    "plt.xticks(rotation=45)\n",
    "plt.xlabel(\"Genre\")\n",
    "plt.ylabel(\"Average Voting Counts\")\n",
    "plt.title(\"Average duration of Genres\")\n",
    "plt.show()"
   ]
  },
  {
   "cell_type": "markdown",
   "metadata": {},
   "source": [
    "5. Popular Genres: Identify the genres that dominate IMDb's 2024 list based on movie count."
   ]
  },
  {
   "cell_type": "code",
   "execution_count": 56,
   "metadata": {},
   "outputs": [
    {
     "data": {
      "image/png": "[encoded data removed]",
      "text/plain": [
       "<Figure size 800x400 with 1 Axes>"
      ]
     },
     "metadata": {},
     "output_type": "display_data"
    }
   ],
   "source": [
    "case5=sample.groupby(['Genre'])['Movie'].count().reset_index(name='Total Movie Count')\n",
    "case5.sort_values(['Total Movie Count'],ascending=False,inplace=True)\n",
    "case5=case5.head(1)\n",
    "\n",
    "fig, ax5= plt.subplots(figsize=(8,4))\n",
    "b=ax5\n",
    "c=case5\n",
    "sns.barplot(x='Genre', y='Total Movie Count', data=c, ax=b)\n",
    "plt.xticks(rotation=45)\n",
    "plt.xlabel(\"Genre\")\n",
    "plt.ylabel(\"Total Movie Count\")\n",
    "plt.show()"
   ]
  },
  {
   "cell_type": "markdown",
   "metadata": {},
   "source": [
    "6.Rating Distribution: Analyze the distribution of ratings across all movies."
   ]
  },
  {
   "cell_type": "code",
   "execution_count": 58,
   "metadata": {},
   "outputs": [
    {
     "data": {
      "image/png": "[encoded data removed]",
      "text/plain": [
       "<Figure size 800x500 with 1 Axes>"
      ]
     },
     "metadata": {},
     "output_type": "display_data"
    }
   ],
   "source": [
    "fig, ax6 = plt.subplots(figsize=(8,5))\n",
    "\n",
    "plt.hist(sample['Rating'], bins=15, color=\"skyblue\", edgecolor=\"black\")\n",
    "\n",
    "# Labels\n",
    "plt.xlabel(\"Rating\")\n",
    "plt.ylabel(\"Number of Movies\")\n",
    "plt.title(\"Distribution of IMDb Ratings (2024 Movies)\")\n",
    "\n",
    "plt.show()"
   ]
  },
  {
   "cell_type": "markdown",
   "metadata": {},
   "source": [
    "7. Genre vs. Ratings: Compare the average ratings for each genre."
   ]
  },
  {
   "cell_type": "code",
   "execution_count": 61,
   "metadata": {},
   "outputs": [
    {
     "data": {
      "image/png": "[encoded data removed]",
      "text/plain": [
       "<Figure size 800x400 with 1 Axes>"
      ]
     },
     "metadata": {},
     "output_type": "display_data"
    }
   ],
   "source": [
    "case7=sample.groupby(['Genre'])['Rating'].mean().reset_index(name='Avg_Rating')\n",
    "\n",
    "fig, ax7= plt.subplots(figsize=(8,4))\n",
    "\n",
    "sns.barplot(x='Genre', y='Avg_Rating', data=case7, ax=ax7)\n",
    "plt.xticks(rotation=45)\n",
    "plt.xlabel(\"Genre\")\n",
    "plt.ylabel(\"Average Rating\")\n",
    "plt.show()"
   ]
  },
  {
   "cell_type": "markdown",
   "metadata": {},
   "source": [
    "8. Duration Extremes: Identify the shortest and longest movies in 2024."
   ]
  },
  {
   "cell_type": "code",
   "execution_count": null,
   "metadata": {},
   "outputs": [
    {
     "name": "stdout",
     "output_type": "stream",
     "text": [
      "Longest Movie is :                             Movie  Total_hours\n",
      "186  Zack Snyder's Justice League     4.033333\n",
      "Short Movie is :           Movie  Total_hours\n",
      "1057  Following         1.15\n"
     ]
    }
   ],
   "source": [
    "long=sample[sample.Total_hours==sample.Total_hours.max()]\n",
    "short=sample[sample.Total_hours==sample.Total_hours.min()]\n",
    "print(f\"Longest Movie is : {long[['Movie','Total_hours']]}\")\n",
    "print(f\"Short Movie is : {short[['Movie','Total_hours']]}\")"
   ]
  },
  {
   "cell_type": "code",
   "execution_count": 76,
   "metadata": {},
   "outputs": [
    {
     "data": {
      "text/html": [
       "<div>\n",
       "<style scoped>\n",
       "    .dataframe tbody tr th:only-of-type {\n",
       "        vertical-align: middle;\n",
       "    }\n",
       "\n",
       "    .dataframe tbody tr th {\n",
       "        vertical-align: top;\n",
       "    }\n",
       "\n",
       "    .dataframe thead th {\n",
       "        text-align: right;\n",
       "    }\n",
       "</style>\n",
       "<table border=\"1\" class=\"dataframe\">\n",
       "  <thead>\n",
       "    <tr style=\"text-align: right;\">\n",
       "      <th></th>\n",
       "      <th>Rating</th>\n",
       "      <th>Genre</th>\n",
       "      <th>Movie</th>\n",
       "      <th>Voting_counts</th>\n",
       "      <th>Total_hours</th>\n",
       "    </tr>\n",
       "  </thead>\n",
       "  <tbody>\n",
       "    <tr>\n",
       "      <th>186</th>\n",
       "      <td>7.9</td>\n",
       "      <td>adventure</td>\n",
       "      <td>Zack Snyder's Justice League</td>\n",
       "      <td>462000</td>\n",
       "      <td>4.033333</td>\n",
       "    </tr>\n",
       "  </tbody>\n",
       "</table>\n",
       "</div>"
      ],
      "text/plain": [
       "     Rating      Genre                         Movie  Voting_counts  \\\n",
       "186     7.9  adventure  Zack Snyder's Justice League         462000   \n",
       "\n",
       "     Total_hours  \n",
       "186     4.033333  "
      ]
     },
     "execution_count": 76,
     "metadata": {},
     "output_type": "execute_result"
    }
   ],
   "source": [
    "long"
   ]
  },
  {
   "cell_type": "code",
   "execution_count": 77,
   "metadata": {},
   "outputs": [
    {
     "data": {
      "text/html": [
       "<div>\n",
       "<style scoped>\n",
       "    .dataframe tbody tr th:only-of-type {\n",
       "        vertical-align: middle;\n",
       "    }\n",
       "\n",
       "    .dataframe tbody tr th {\n",
       "        vertical-align: top;\n",
       "    }\n",
       "\n",
       "    .dataframe thead th {\n",
       "        text-align: right;\n",
       "    }\n",
       "</style>\n",
       "<table border=\"1\" class=\"dataframe\">\n",
       "  <thead>\n",
       "    <tr style=\"text-align: right;\">\n",
       "      <th></th>\n",
       "      <th>Rating</th>\n",
       "      <th>Genre</th>\n",
       "      <th>Movie</th>\n",
       "      <th>Voting_counts</th>\n",
       "      <th>Total_hours</th>\n",
       "    </tr>\n",
       "  </thead>\n",
       "  <tbody>\n",
       "    <tr>\n",
       "      <th>1057</th>\n",
       "      <td>7.4</td>\n",
       "      <td>crime</td>\n",
       "      <td>Following</td>\n",
       "      <td>107000</td>\n",
       "      <td>1.15</td>\n",
       "    </tr>\n",
       "  </tbody>\n",
       "</table>\n",
       "</div>"
      ],
      "text/plain": [
       "      Rating  Genre      Movie  Voting_counts  Total_hours\n",
       "1057     7.4  crime  Following         107000         1.15"
      ]
     },
     "execution_count": 77,
     "metadata": {},
     "output_type": "execute_result"
    }
   ],
   "source": [
    "short"
   ]
  },
  {
   "cell_type": "markdown",
   "metadata": {},
   "source": [
    "9. Top-Voted Movies: Find the top 10 movies with the highest voting counts."
   ]
  },
  {
   "cell_type": "code",
   "execution_count": 83,
   "metadata": {},
   "outputs": [
    {
     "name": "stdout",
     "output_type": "stream",
     "text": [
      "Top 10 movies with the highes voting counts:\n"
     ]
    },
    {
     "name": "stderr",
     "output_type": "stream",
     "text": [
      "C:\\Users\\Test\\AppData\\Local\\Temp\\ipykernel_1540\\183226577.py:6: FutureWarning: \n",
      "\n",
      "Passing `palette` without assigning `hue` is deprecated and will be removed in v0.14.0. Assign the `y` variable to `hue` and set `legend=False` for the same effect.\n",
      "\n",
      "  sns.barplot(x='Voting_counts', y='Movie', data=a, palette='viridis')\n"
     ]
    },
    {
     "data": {
      "image/png": "[encoded data removed]",
      "text/plain": [
       "<Figure size 800x400 with 1 Axes>"
      ]
     },
     "metadata": {},
     "output_type": "display_data"
    }
   ],
   "source": [
    "sample.sort_values(['Voting_counts'],ascending=False,inplace=True)\n",
    "print(\"Top 10 movies with the highes voting counts:\")\n",
    "a=sample[['Movie','Voting_counts']].head(10)\n",
    "\n",
    "plt.figure(figsize=(8,4))\n",
    "sns.barplot(x='Voting_counts', y='Movie', data=a, palette='viridis')\n",
    "\n",
    "# Add data labels\n",
    "for index, value in enumerate(a['Voting_counts']):\n",
    "    plt.text(value + 500, index, str(value), va='center')\n",
    "\n",
    "plt.title(\"Top 10 Movies with Highest Voting Counts (IMDb 2024)\")\n",
    "plt.xlabel(\"Voting Counts\")\n",
    "plt.ylabel(\"Movie\")\n",
    "plt.show()"
   ]
  }
 ],
 "metadata": {
  "colab": {
   "provenance": []
  },
  "kernelspec": {
   "display_name": "Python 3",
   "language": "python",
   "name": "python3"
  },
  "language_info": {
   "codemirror_mode": {
    "name": "ipython",
    "version": 3
   },
   "file_extension": ".py",
   "mimetype": "text/x-python",
   "name": "python",
   "nbconvert_exporter": "python",
   "pygments_lexer": "ipython3",
   "version": "3.13.5"
  }
 },
 "nbformat": 4,
 "nbformat_minor": 0
}
