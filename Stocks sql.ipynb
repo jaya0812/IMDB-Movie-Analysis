{
 "cells": [
  {
   "cell_type": "markdown",
   "id": "ca2a99f7",
   "metadata": {},
   "source": [
    "# Sql uploading the file"
   ]
  },
  {
   "cell_type": "code",
   "execution_count": 1,
   "id": "5ec2ef75",
   "metadata": {},
   "outputs": [],
   "source": [
    "import mysql.connector\n",
    "import pandas as pd\n"
   ]
  },
  {
   "cell_type": "code",
   "execution_count": null,
   "id": "7b592e52",
   "metadata": {},
   "outputs": [],
   "source": [
    "\n",
    "connection=mysql.connector.connect(\n",
    "    host=\"localhost\",\n",
    "    user=\"root\",\n",
    "    password=\"0123456789\"\n",
    "\n",
    ")\n",
    "mycursor=connection.cursor()\n",
    "mycursor.execute(\"create database Guvi_proj2\")\n",
    "mycursor.execute(\"show databases\")\n"
   ]
  },
  {
   "cell_type": "code",
   "execution_count": 5,
   "id": "25c3153b",
   "metadata": {},
   "outputs": [],
   "source": [
    "stocks=mysql.connector.connect(\n",
    "    host=\"localhost\",\n",
    "    user=\"root\",\n",
    "    password=\"0123456789\",\n",
    "    database=\"Guvi_proj2\"\n",
    ")\n",
    "\n",
    "mycursor=stocks.cursor()\n"
   ]
  },
  {
   "cell_type": "code",
   "execution_count": null,
   "id": "74a63f83",
   "metadata": {},
   "outputs": [],
   "source": [
    "\n",
    "# Top 10 Volatile\n",
    "\n",
    "top10=pd.read_csv(r\"C:\\Users\\Test\\Downloads\\Guvi project 2\\top10_volatile.csv\")\n",
    "\n",
    "# mycursor=stocks.cursor()\n",
    "\n",
    "mycursor.execute(\"create table top10_vol (Ticker varchar(50) primary key,Volatility float)\")\n",
    "\n",
    "stocks.commit()\n",
    "for _, rs in top10.iterrows():\n",
    "    Ticker = rs[0]\n",
    "    Volatility = rs[1]\n",
    "\n",
    "    if (pd.isna(Ticker) or pd.isna(Volatility) or str(Ticker).strip()==''):\n",
    "        continue\n",
    "\n",
    "    try:\n",
    "        query = \"INSERT INTO top10_vol (Ticker, Volatility) VALUES (%s, %s)\"\n",
    "        mycursor.execute(query, (Ticker, Volatility))\n",
    "    except mysql.connector.IntegrityError as e:\n",
    "        print(f\"Skipping duplicate or error for Ticker={Ticker}: {e}\")\n",
    "\n",
    "stocks.commit()\n"
   ]
  },
  {
   "cell_type": "code",
   "execution_count": null,
   "id": "a3a08fc7",
   "metadata": {},
   "outputs": [],
   "source": [
    "\n",
    "#Sector wise perf\n",
    "\n",
    "sect_perf=pd.read_csv(r\"C:\\Users\\Test\\Downloads\\Guvi project 2\\sector_wise.csv\")\n",
    "\n",
    "# mycursor=stocks.cursor()\n",
    "mycursor.execute(\"create table sector_perf (Sector varchar(50) primary key,Yearly_return float)\")\n",
    "\n",
    "stocks.commit()\n",
    "for _, rs in sect_perf.iterrows():\n",
    "    Sector = rs[0]\n",
    "    year_ret = rs[1]\n",
    "\n",
    "    if (pd.isna(Sector) or pd.isna(year_ret) or str(Sector).strip()==''):\n",
    "        continue\n",
    "\n",
    "    try:\n",
    "        query = \"INSERT INTO sector_perf (Sector, Yearly_return) VALUES (%s, %s)\"\n",
    "        mycursor.execute(query, (Sector, year_ret))\n",
    "    except mysql.connector.IntegrityError as e:\n",
    "        print(f\"Skipping duplicate or error for Sector={Sector}: {e}\")\n",
    "\n",
    "stocks.commit()\n"
   ]
  },
  {
   "cell_type": "code",
   "execution_count": null,
   "id": "ec3aab76",
   "metadata": {},
   "outputs": [],
   "source": [
    "#Top 10 gainers\n",
    "\n",
    "top_gainers=pd.read_csv(r\"C:\\Users\\Test\\Downloads\\Guvi project 2\\top_gainers.csv\")\n",
    "mycursor.execute(\"create table top_10_gainer (Ticker varchar(50) primary key,Yearly_return float)\")\n",
    "\n",
    "stocks.commit()\n",
    "for _, rs in top_gainers.iterrows():\n",
    "    Ticker = rs[0]\n",
    "    year_ret = rs[1]\n",
    "\n",
    "    if (pd.isna(Ticker) or pd.isna(year_ret) or str(Ticker).strip()==''):\n",
    "        continue\n",
    "\n",
    "    try:\n",
    "        query = \"INSERT INTO top_10_gainer (Ticker, Yearly_return) VALUES (%s, %s)\"\n",
    "        mycursor.execute(query, (Ticker, year_ret))\n",
    "    except mysql.connector.IntegrityError as e:\n",
    "        print(f\"Skipping duplicate or error for Sector={Ticker}: {e}\")\n",
    "\n",
    "stocks.commit()\n",
    "\n"
   ]
  },
  {
   "cell_type": "code",
   "execution_count": 6,
   "id": "afa6c8a9",
   "metadata": {},
   "outputs": [
    {
     "name": "stderr",
     "output_type": "stream",
     "text": [
      "C:\\Users\\Test\\AppData\\Local\\Temp\\ipykernel_12472\\2495137617.py:8: FutureWarning: Series.__getitem__ treating keys as positions is deprecated. In a future version, integer keys will always be treated as labels (consistent with DataFrame behavior). To access a value by position, use `ser.iloc[pos]`\n",
      "  Ticker = rs[0]\n",
      "C:\\Users\\Test\\AppData\\Local\\Temp\\ipykernel_12472\\2495137617.py:9: FutureWarning: Series.__getitem__ treating keys as positions is deprecated. In a future version, integer keys will always be treated as labels (consistent with DataFrame behavior). To access a value by position, use `ser.iloc[pos]`\n",
      "  cum_ret = rs[1]\n"
     ]
    }
   ],
   "source": [
    "#Top 5 cum return\n",
    "\n",
    "cum_ret_df=pd.read_csv(r\"C:\\Users\\Test\\Downloads\\Guvi project 2\\top5_cumul_return.csv\")\n",
    "mycursor.execute(\"create table cum_return (Ticker varchar(50) primary key,Cumulative_return float)\")\n",
    "\n",
    "stocks.commit()\n",
    "for _, rs in cum_ret_df.iterrows():\n",
    "    Ticker = rs[0]\n",
    "    cum_ret = rs[1]\n",
    "\n",
    "    if (pd.isna(Ticker) or pd.isna(cum_ret) or str(Ticker).strip()==''):\n",
    "        continue\n",
    "\n",
    "    try:\n",
    "        query = \"INSERT INTO cum_return (Ticker, Cumulative_return) VALUES (%s, %s)\"\n",
    "        mycursor.execute(query, (Ticker, cum_ret))\n",
    "    except mysql.connector.IntegrityError as e:\n",
    "        print(f\"Skipping duplicate or error for Ticker={Ticker}: {e}\")\n",
    "\n",
    "stocks.commit()\n"
   ]
  },
  {
   "cell_type": "code",
   "execution_count": 10,
   "id": "66f831af",
   "metadata": {},
   "outputs": [
    {
     "name": "stdout",
     "output_type": "stream",
     "text": [
      "✅ Data successfully inserted into 'top_gainers_losers' table.\n"
     ]
    }
   ],
   "source": [
    "import pandas as pd\n",
    "import mysql.connector\n",
    "\n",
    "# Read the data\n",
    "top_gainers_losers = pd.read_csv(r\"C:\\Users\\Test\\Downloads\\Guvi project 2\\top5_gainers_losers_monthly.csv\")\n",
    "\n",
    "# Drop if table exists to avoid conflicts\n",
    "mycursor.execute(\"DROP TABLE IF EXISTS top_gainers_losers\")\n",
    "\n",
    "# Create the table (no primary key on Ticker since it repeats per month)\n",
    "mycursor.execute(\"\"\"\n",
    "    CREATE TABLE top_gainers_losers (\n",
    "        Ticker VARCHAR(50),\n",
    "        YearMonth VARCHAR(20),\n",
    "        Monthly_Return FLOAT,\n",
    "        Type VARCHAR(20)\n",
    "    )\n",
    "\"\"\")\n",
    "\n",
    "# Insert data\n",
    "for _, rs in top_gainers_losers.iterrows():\n",
    "    Ticker = rs['Ticker']\n",
    "    YearMonth = rs['YearMonth']\n",
    "    Monthly_Return = rs['Monthly Return']\n",
    "    Type = rs['Type']\n",
    "\n",
    "    if pd.isna(Ticker) or pd.isna(Monthly_Return) or str(Ticker).strip() == '':\n",
    "        continue\n",
    "\n",
    "    try:\n",
    "        query = \"\"\"\n",
    "            INSERT INTO top_gainers_losers (Ticker, YearMonth, Monthly_Return, Type)\n",
    "            VALUES (%s, %s, %s, %s)\n",
    "        \"\"\"\n",
    "        mycursor.execute(query, (Ticker, YearMonth, Monthly_Return, Type))\n",
    "    except mysql.connector.Error as e:\n",
    "        print(f\"Skipping error for Ticker={Ticker}: {e}\")\n",
    "\n",
    "stocks.commit()\n",
    "mycursor.close()\n",
    "stocks.close()\n",
    "\n",
    "print(\"✅ Data successfully inserted into 'top_gainers_losers' table.\")\n"
   ]
  },
  {
   "cell_type": "code",
   "execution_count": null,
   "id": "8f74be17",
   "metadata": {},
   "outputs": [],
   "source": []
  }
 ],
 "metadata": {
  "kernelspec": {
   "display_name": "Python 3",
   "language": "python",
   "name": "python3"
  },
  "language_info": {
   "codemirror_mode": {
    "name": "ipython",
    "version": 3
   },
   "file_extension": ".py",
   "mimetype": "text/x-python",
   "name": "python",
   "nbconvert_exporter": "python",
   "pygments_lexer": "ipython3",
   "version": "3.13.5"
  }
 },
 "nbformat": 4,
 "nbformat_minor": 5
}
